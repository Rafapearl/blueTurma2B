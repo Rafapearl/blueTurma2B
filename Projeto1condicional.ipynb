{
  "nbformat": 4,
  "nbformat_minor": 0,
  "metadata": {
    "colab": {
      "name": "Projeto1condicional.ipynb",
      "provenance": [],
      "collapsed_sections": [],
      "authorship_tag": "ABX9TyOZ70HC15k8aADW7yfKocpR",
      "include_colab_link": true
    },
    "kernelspec": {
      "name": "python3",
      "display_name": "Python 3"
    },
    "language_info": {
      "name": "python"
    }
  },
  "cells": [
    {
      "cell_type": "markdown",
      "metadata": {
        "id": "view-in-github",
        "colab_type": "text"
      },
      "source": [
        "<a href=\"https://colab.research.google.com/github/Rafapearl/blueTurma2B/blob/main/Projeto1condicional.ipynb\" target=\"_parent\"><img src=\"https://colab.research.google.com/assets/colab-badge.svg\" alt=\"Open In Colab\"/></a>"
      ]
    },
    {
      "cell_type": "code",
      "metadata": {
        "id": "sOZ6rYiQelac"
      },
      "source": [
        ""
      ],
      "execution_count": null,
      "outputs": []
    },
    {
      "cell_type": "markdown",
      "metadata": {
        "id": "BvLIIXhafHjL"
      },
      "source": [
        "##PROJETO 1\n",
        "Resultado da primeira/segunda aula em Python:\n",
        "•\tEscreva um programa que receba uma string digitada pelo usuário;\n",
        "•\tCaso a string seja \"medieval\", exiba no console \"espada\";\n",
        "•\tCaso contrário, se a string for \"futurista\", exiba no console \"sabre de luz\";\n",
        "•\tCaso contrário, exiba no console \"Tente novamente\"\n"
      ]
    },
    {
      "cell_type": "code",
      "metadata": {
        "colab": {
          "base_uri": "https://localhost:8080/"
        },
        "id": "6qk8qMACfPXB",
        "outputId": "18e7e4a0-7208-4eb3-83df-2a2108a9add1"
      },
      "source": [
        "jogo = input(\"Escolha o seu tipo de jogo e descubra a sua arma ideal: \")\n",
        "\n",
        "if jogo == \"medieval\":\n",
        "  print (\"A sua arma ideal é: espada\")\n",
        "elif jogo == \"futurista\":\n",
        "  print (\"A sua arma ideal é: sabre de luz\")\n",
        "else:\n",
        "  print (\"Tente novamente\")"
      ],
      "execution_count": 3,
      "outputs": [
        {
          "output_type": "stream",
          "text": [
            "Escolha o seu tipo de jogo e descubra a sua arma ideal: fsdf\n",
            "Tente novamente\n"
          ],
          "name": "stdout"
        }
      ]
    },
    {
      "cell_type": "markdown",
      "metadata": {
        "id": "GsaVmyKeg-Re"
      },
      "source": [
        "Continuação do PROJETO 1\n",
        "•\tEscreva um programa que receba um ataque de espada ou sabre digitada pelo usuário;\n",
        "•\tCaso o ataque seja \"espada\", exiba no console \"VOCÊ AINDA NÃO MATOU O CHEFÃO\";\n",
        "•\tCaso contrário, se o ataque for \"sabre\", exiba no console \"VOCÊ DERROTOU O CHEFÃO COM O SABRE DE LUZ\";\n",
        "•\tCaso contrário, exiba no console \"ATAQUE NOVAMENTE\"\n"
      ]
    },
    {
      "cell_type": "code",
      "metadata": {
        "colab": {
          "base_uri": "https://localhost:8080/"
        },
        "id": "83Zbhntfg_43",
        "outputId": "2db2586c-76dc-4488-850e-b22f5da562ee"
      },
      "source": [
        "ataque = input(\"Escolha a sua arma para atacar o inimigo: \")\n",
        "if ataque == \"espada\":\n",
        "  print (\"VOCÊ AINDA NÃO MATOU O CHEFÃO\")\n",
        "elif ataque == \"sabre\" or ataque == \"sabre de luz\":\n",
        "  print (\"VOCÊ DERROUTOU O CHEFÃO COM O SABRE DE LUZ\")\n",
        "else:\n",
        "  print (\"ATAQUE NOVAMENTE\")"
      ],
      "execution_count": 3,
      "outputs": [
        {
          "output_type": "stream",
          "text": [
            "Escolha a sua arma para atacar o inimigo: das\n",
            "ATAQUE NOVAMENTE\n"
          ],
          "name": "stdout"
        }
      ]
    }
  ]
}