{
  "nbformat": 4,
  "nbformat_minor": 0,
  "metadata": {
    "colab": {
      "name": "Desafio_caixa_condicional.ipynb",
      "provenance": [],
      "collapsed_sections": [],
      "authorship_tag": "ABX9TyMhqjPwEmn74CN2IQMoc/hm",
      "include_colab_link": true
    },
    "kernelspec": {
      "name": "python3",
      "display_name": "Python 3"
    },
    "language_info": {
      "name": "python"
    }
  },
  "cells": [
    {
      "cell_type": "markdown",
      "metadata": {
        "id": "view-in-github",
        "colab_type": "text"
      },
      "source": [
        "<a href=\"https://colab.research.google.com/github/Rafapearl/blueTurma2B/blob/main/Desafio_caixa_condicional.ipynb\" target=\"_parent\"><img src=\"https://colab.research.google.com/assets/colab-badge.svg\" alt=\"Open In Colab\"/></a>"
      ]
    },
    {
      "cell_type": "markdown",
      "metadata": {
        "id": "kflgwvSs5zos"
      },
      "source": [
        "##DESAFIO\n",
        "Faça um Programa para um caixa eletrônico. O programa deverá perguntar ao usuário a valor do saque e depois informar quantas notas de cada valor serão fornecidas. As notas disponíveis serão as de 1, 5, 10, 50 e 100 reais. O valor mínimo é de 10 reais e o máximo de 600 reais. O programa não deve se preocupar com a quantidade de notas existentes na máquina.\n",
        "•\tExemplo 1: Para sacar a quantia de 256 reais, o programa fornece duas notas de 100, uma nota de 50, uma nota de 5 e uma nota de 1;\n",
        "•\tExemplo 2: Para sacar a quantia de 399 reais, o programa fornece três notas de 100, uma nota de 50, quatro notas de 10, uma nota de 5 e quatro notas de 1.\n"
      ]
    },
    {
      "cell_type": "code",
      "metadata": {
        "colab": {
          "base_uri": "https://localhost:8080/"
        },
        "id": "dUgpm_6x55IP",
        "outputId": "fea81e13-d4f5-426c-89ae-b06eb27821a2"
      },
      "source": [
        "print (\"=\" * 30)\n",
        "print (\"BANCO DA BLUE - Saques entre 10 a 600 reais\")\n",
        "print (\"=\" * 30)\n",
        "print (\"\")\n",
        "\n",
        "\n",
        "\n",
        "valor= int(input('Digite o valor que deseja sacar: R$'))\n",
        "\n",
        "cem = int(valor / 100)\n",
        "valor = valor - (cem*100)\n",
        "    \n",
        "cinquenta = int(valor/50)\n",
        "valor = valor- (cinquenta*50)\n",
        "\n",
        "dez = int(valor/10)\n",
        "valor = valor - (dez*10)\n",
        "\n",
        "cinco = int(valor/5)\n",
        "valor = valor - (cinco*5)\n",
        "\n",
        "    \n",
        "um = valor\n",
        "if  valor <10 and valor >=600:\n",
        "  print (\"valor indisponivel para saque!\")\n",
        "else:\n",
        "       print('Notas R$100,00 = ',cem)\n",
        "       print('Notas R$ 50,00 = ',cinquenta)\n",
        "       print('Notas R$ 10,00 = ',dez)\n",
        "       print('Notas R$  5,00 = ',cinco)\n",
        "       print('Notas R$  1,00 = ',um)\n"
      ],
      "execution_count": 58,
      "outputs": [
        {
          "output_type": "stream",
          "text": [
            "==============================\n",
            "BANCO DA BLUE - Saques entre 10 a 600 reais\n",
            "==============================\n",
            "\n",
            "Digite o valor que deseja sacar: R$1\n",
            "Notas R$100,00 =  0\n",
            "Notas R$ 50,00 =  0\n",
            "Notas R$ 10,00 =  0\n",
            "Notas R$  5,00 =  0\n",
            "Notas R$  1,00 =  1\n"
          ],
          "name": "stdout"
        }
      ]
    }
  ]
}