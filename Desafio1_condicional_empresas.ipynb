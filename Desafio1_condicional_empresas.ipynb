{
  "nbformat": 4,
  "nbformat_minor": 0,
  "metadata": {
    "colab": {
      "name": "Desafio1_condicional_empresas.ipynb",
      "provenance": [],
      "authorship_tag": "ABX9TyP5PhBhcCGHXufe+WJRFL5C",
      "include_colab_link": true
    },
    "kernelspec": {
      "name": "python3",
      "display_name": "Python 3"
    },
    "language_info": {
      "name": "python"
    }
  },
  "cells": [
    {
      "cell_type": "markdown",
      "metadata": {
        "id": "view-in-github",
        "colab_type": "text"
      },
      "source": [
        "<a href=\"https://colab.research.google.com/github/Rafapearl/blueTurma2B/blob/main/Desafio1_condicional_empresas.ipynb\" target=\"_parent\"><img src=\"https://colab.research.google.com/assets/colab-badge.svg\" alt=\"Open In Colab\"/></a>"
      ]
    },
    {
      "cell_type": "code",
      "metadata": {
        "id": "sE16Kju8lq8B"
      },
      "source": [
        ""
      ],
      "execution_count": null,
      "outputs": []
    },
    {
      "cell_type": "markdown",
      "metadata": {
        "id": "mAP-B8PXl0Ft"
      },
      "source": [
        "\n",
        "##DESAFIO - As empresas @.com resolveram dar um aumento de salário aos seus colaboradores e lhe contrataram para desenvolver o programa que calculará os reajustes.\n",
        "\n",
        "Faça um programa que recebe o salário de um colaborador e o reajuste segundo o seguinte critério, baseado no salário atual:\n",
        "•\tsalários até R$ 280,00 (incluindo) : aumento de 20%\n",
        "•\tsalários entre R$ 280,00 e R$ 700,00 : aumento de 15%\n",
        "•\tsalários entre R$ 700,00 e R$ 1500,00 : aumento de 10%\n",
        "•\tsalários de R$ 1500,00 em diante : aumento de 5%\n",
        "Após o aumento ser realizado, informe na tela:\n",
        "•\to salário antes do reajuste;\n",
        "•\to percentual de aumento aplicado;\n",
        "•\to valor do aumento;\n",
        "•\to novo salário, após o aumento.\"\n"
      ]
    },
    {
      "cell_type": "code",
      "metadata": {
        "colab": {
          "base_uri": "https://localhost:8080/"
        },
        "id": "vqRmpvgfl86b",
        "outputId": "99df41a9-4892-4868-ce48-b43b411ba4a5"
      },
      "source": [
        "salario = float(input(\"Digite o valor do salário: \"))\n",
        "\n",
        "porcentagem1 = 1.20\n",
        "salario_atualizado1 = salario * porcentagem1\n",
        "aumento1 = salario_atualizado1 - salario\n",
        "\n",
        "porcentagem2 = 1.15\n",
        "salario_atualizado2 = salario * porcentagem2\n",
        "aumento2 = salario_atualizado2 - salario\n",
        "\n",
        "porcentagem3 = 1.10\n",
        "salario_atualizado3 = salario * porcentagem3\n",
        "aumento3 = salario_atualizado3 - salario\n",
        "\n",
        "porcentagem4 = 1.05\n",
        "salario_atualizado4 = salario * porcentagem4\n",
        "aumento4 = salario_atualizado4 - salario\n",
        "\n",
        "if  salario <= 280:\n",
        "  print(f'Salário atual:  R$ {salario:.2f}\\nvalor do  aumento: R$ {aumento1:.2f} \\nsalário atualizado: {salario_atualizado1:.2f} \\naumento de 20%')\n",
        "elif  salario > 280 and salario <=700:\n",
        "  print(f'Salário atual:  R$ {salario:.2f}\\nvalor do  aumento: R$ {aumento2:.2f} \\nsalário atualizado: {salario_atualizado2:.2f} \\naumento de: 15%')\n",
        "elif  salario >700 and salario <=1500:\n",
        "  print(f'Salário atual:  R$ {salario:.2f}\\nvalor do  aumento: R$ {aumento3:.2f} \\nsalário atualizado: {salario_atualizado3:.2f} \\naumento de: 10%')\n",
        "elif  salario >1500:\n",
        "  print(f'Salário atual:  R$ {salario:.2f}\\nvalor do  aumento: R$ {aumento4:.2f} \\nsalário atualizado: {salario_atualizado4:.2f} \\naumento de: 5%')\n",
        "\n",
        "\n"
      ],
      "execution_count": 4,
      "outputs": [
        {
          "output_type": "stream",
          "text": [
            "Digite o valor do salário: 300\n",
            "Salário atual:  R$ 300.00\n",
            "valor do  aumento: R$ 45.00 \n",
            "salário atualizado: 345.00 \n",
            "aumento de: 15%\n"
          ],
          "name": "stdout"
        }
      ]
    }
  ]
}