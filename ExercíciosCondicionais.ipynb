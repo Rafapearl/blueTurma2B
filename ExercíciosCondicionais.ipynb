{
  "nbformat": 4,
  "nbformat_minor": 0,
  "metadata": {
    "colab": {
      "name": "ExercíciosCondicionais.ipynb",
      "provenance": [],
      "collapsed_sections": [],
      "authorship_tag": "ABX9TyNFKK/JPjdBffAjdJ7gMSib",
      "include_colab_link": true
    },
    "kernelspec": {
      "name": "python3",
      "display_name": "Python 3"
    },
    "language_info": {
      "name": "python"
    }
  },
  "cells": [
    {
      "cell_type": "markdown",
      "metadata": {
        "id": "view-in-github",
        "colab_type": "text"
      },
      "source": [
        "<a href=\"https://colab.research.google.com/github/Rafapearl/blueTurma2B/blob/main/Exerc%C3%ADciosCondicionais.ipynb\" target=\"_parent\"><img src=\"https://colab.research.google.com/assets/colab-badge.svg\" alt=\"Open In Colab\"/></a>"
      ]
    },
    {
      "cell_type": "markdown",
      "metadata": {
        "id": "SLQbM-Zcw8FG"
      },
      "source": [
        "\n",
        "##Exercício 1: \"Faça um Programa que leia três números inteiros, em seguida mostre o maior e o menor deles\n"
      ]
    },
    {
      "cell_type": "code",
      "metadata": {
        "colab": {
          "base_uri": "https://localhost:8080/"
        },
        "id": "wfTH7_Rip2Lq",
        "outputId": "1f77b793-0873-4a8e-9dbc-e5ed9aa9c3be"
      },
      "source": [
        "##Exercício 1: \"Faça um Programa que leia três números inteiros, em seguida mostre o maior e o menor deles.\"\n",
        "\n",
        "\n",
        "numero1 = int(input(\"digite um número\"))\n",
        "numero2 = int(input(\"digite outro numero\"))\n",
        "numero3 = int(input(\"digite outro número\"))\n",
        "if numero1 > numero2 and numero1 > numero3:\n",
        "   print (numero1)\n",
        "elif numero2 > numero1 and numero2 > numero3:\n",
        "     print (numero2)\n",
        "else:\n",
        "     print (numero3)\n"
      ],
      "execution_count": null,
      "outputs": [
        {
          "output_type": "stream",
          "text": [
            "digite um número8\n",
            "digite outro numero2\n",
            "digite outro número5\n",
            "8\n"
          ],
          "name": "stdout"
        }
      ]
    },
    {
      "cell_type": "markdown",
      "metadata": {
        "id": "PjSuqik6H6-8"
      },
      "source": [
        "##Exercício 2 - Faça um programa que peça dois números e imprima o maior deles."
      ]
    },
    {
      "cell_type": "code",
      "metadata": {
        "id": "mEAZFpyrICBk"
      },
      "source": [
        ""
      ],
      "execution_count": null,
      "outputs": []
    },
    {
      "cell_type": "code",
      "metadata": {
        "colab": {
          "base_uri": "https://localhost:8080/"
        },
        "id": "sbPpJI0wIFym",
        "outputId": "ea6fccbc-d76e-475e-d9d9-1bcaacba23ca"
      },
      "source": [
        "\n",
        "\n",
        "\n",
        "numero1 = int(input(\"digite um número\"))\n",
        "numero2 = int(input(\"digite outro numero\"))\n",
        "\n",
        "if numero1 > numero2: \n",
        "   print (numero1)\n",
        "elif numero2 > numero1: \n",
        "     print (\"O maior número é: \",numero2)\n"
      ],
      "execution_count": null,
      "outputs": [
        {
          "output_type": "stream",
          "text": [
            "digite um número3\n",
            "digite outro numero5\n",
            "O maior número é:  5\n"
          ],
          "name": "stdout"
        }
      ]
    },
    {
      "cell_type": "markdown",
      "metadata": {
        "id": "yGzO2umTI__T"
      },
      "source": [
        "##Exercício 3 - Faça um script que peça um valor e mostre na tela se o valor é positivo ou negativo."
      ]
    },
    {
      "cell_type": "code",
      "metadata": {
        "colab": {
          "base_uri": "https://localhost:8080/"
        },
        "id": "vG4B72ExJI4X",
        "outputId": "ccb66155-fc15-476e-d08a-3a4815e3165c"
      },
      "source": [
        "valor = int(input(\"Digite um número positivo ou negativo!\"))\n",
        "\n",
        "if valor >= 0:\n",
        "  print (\"Esse número é positivo!!!\")\n",
        "else:\n",
        "    print(\"Esse numero é negativo!!!\")"
      ],
      "execution_count": null,
      "outputs": [
        {
          "output_type": "stream",
          "text": [
            "Digite um número positivo ou negativo!-1\n",
            "Esse numero é negativo!!!\n"
          ],
          "name": "stdout"
        }
      ]
    },
    {
      "cell_type": "markdown",
      "metadata": {
        "id": "zrx3bXuiKNhC"
      },
      "source": [
        "##Exercício 4 - Crie um programa que verifique se uma letra digitada é \"F\" ou \"M\". Conforme a letra escrever: F - Feminino, M - Masculino, Sexo Inválido."
      ]
    },
    {
      "cell_type": "code",
      "metadata": {
        "id": "5uc01LIxKX9q",
        "colab": {
          "base_uri": "https://localhost:8080/"
        },
        "outputId": "8f5cbec3-b476-48c5-e8d7-d7e94073ce70"
      },
      "source": [
        "genero = input(\"Digite 'F', se for do sexo feminino ou 'M' se for do sexo masculino: \")\n",
        "if genero == \"M\" or genero == \"m\":\n",
        "   print  (\"Masculino\")\n",
        "elif genero == \"F\" or  genero == \"f\":\n",
        "   print (\"Feminino\")\n",
        "else: \n",
        " print (\"Sexo Inválido\")"
      ],
      "execution_count": null,
      "outputs": [
        {
          "output_type": "stream",
          "text": [
            "Digite 'F', se for do sexo feminino ou 'M' se for do sexo masculino: d\n",
            "Sexo Inválido\n"
          ],
          "name": "stdout"
        }
      ]
    },
    {
      "cell_type": "markdown",
      "metadata": {
        "id": "sQIIONXhTzTn"
      },
      "source": [
        "##Exercício 5 - Crie um programa em Python que peça a nota do aluno, que deve ser um float entre 0.00 e 10.0\n",
        "•\tSe a nota for menor que 6.0, deve exibir a nota F.\n",
        "•\tSe a nota for de 6.0 até 7.0, deve exibir a nota D.\n",
        "•\tSe a nota for entre 7.0 e 8.0, deve exibir a nota C.\n",
        "•\tSe a nota for entre 8.0 e 9.0, deve exibir a nota B.\n",
        "•\tPor fim, se for entre 9.0 e 10.0, deve exibir um belo de um A.\n"
      ]
    },
    {
      "cell_type": "code",
      "metadata": {
        "colab": {
          "base_uri": "https://localhost:8080/"
        },
        "id": "iagxzeiGT61g",
        "outputId": "833a4e09-25e8-4653-e6a9-0890716d0ba3"
      },
      "source": [
        "notaluno = float(input(\"Digite a nota do aluno: \"))\n",
        "\n",
        "if notaluno <= 5.9:\n",
        "  print (\"nota F\")\n",
        "elif notaluno >=6.0 and notaluno <=6.9:\n",
        "  print (\"nota D\")\n",
        "elif notaluno >=7.0 and notaluno <8.0:\n",
        "  print (\"nota C\")\n",
        "elif notaluno >=8.0 and notaluno <9.0:\n",
        "  print (\"nota B\")\n",
        "elif notaluno >= 9.0 and notaluno <=10:\n",
        "  print (\"Parabéns!!! nota A\")\n",
        "else:\n",
        "  print (\"valor inválido\")"
      ],
      "execution_count": null,
      "outputs": [
        {
          "output_type": "stream",
          "text": [
            "Digite a nota do aluno: 10\n",
            "Parabéns!!! nota A\n"
          ],
          "name": "stdout"
        }
      ]
    },
    {
      "cell_type": "markdown",
      "metadata": {
        "id": "ulJJ9GQeYu2N"
      },
      "source": [
        "##Exercício 6 - Faça um Programa que verifique se uma letra digitada é vogal ou consoante."
      ]
    },
    {
      "cell_type": "code",
      "metadata": {
        "colab": {
          "base_uri": "https://localhost:8080/"
        },
        "id": "wVBDlk8CT1yn",
        "outputId": "c6870319-cf1d-45c0-adb8-e317534c3789"
      },
      "source": [
        "letra = input(\"Digite uma letra\")\n",
        "\n",
        "if letra in (\"aeiou\"):\n",
        "  print (\"isso é uma vogal\")\n",
        "elif letra in (\"0123456789\"):\n",
        " print (\"isso é um número\")\n",
        "else:\n",
        "  print (\"isso é uma consoante\")"
      ],
      "execution_count": 2,
      "outputs": [
        {
          "output_type": "stream",
          "text": [
            "Digite uma letra5\n",
            "isso é um número\n"
          ],
          "name": "stdout"
        }
      ]
    },
    {
      "cell_type": "markdown",
      "metadata": {
        "id": "QyHrcBE5Tnlc"
      },
      "source": [
        ""
      ]
    },
    {
      "cell_type": "markdown",
      "metadata": {
        "id": "pmMHzgnrJAGG"
      },
      "source": [
        ""
      ]
    }
  ]
}