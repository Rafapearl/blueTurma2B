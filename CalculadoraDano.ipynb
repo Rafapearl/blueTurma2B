{
  "nbformat": 4,
  "nbformat_minor": 0,
  "metadata": {
    "colab": {
      "name": "CalculadoraDano.ipynb",
      "provenance": [],
      "authorship_tag": "ABX9TyM7dk8YvhF3nAl2dUPHPccK",
      "include_colab_link": true
    },
    "kernelspec": {
      "name": "python3",
      "display_name": "Python 3"
    },
    "language_info": {
      "name": "python"
    }
  },
  "cells": [
    {
      "cell_type": "markdown",
      "metadata": {
        "id": "view-in-github",
        "colab_type": "text"
      },
      "source": [
        "<a href=\"https://colab.research.google.com/github/Rafapearl/blueTurma2B/blob/main/CalculadoraDano.ipynb\" target=\"_parent\"><img src=\"https://colab.research.google.com/assets/colab-badge.svg\" alt=\"Open In Colab\"/></a>"
      ]
    },
    {
      "cell_type": "code",
      "metadata": {
        "id": "D72rnHuvXpq1"
      },
      "source": [
        ""
      ],
      "execution_count": null,
      "outputs": []
    },
    {
      "cell_type": "markdown",
      "metadata": {
        "id": "xN88sUuMOG46"
      },
      "source": [
        "## Mini Projeto 03 - Calculadora de dano\n",
        "Vamos implementar a calculadora de dano de RPG!!\n",
        "\n",
        "### Parte 1\n",
        "O programa vai receber a `vida e um monstro (entre 10 e 50)` e o `valor do ataque do jogador por turno (entre 5 e 10)`\n",
        "\n",
        "Baseado nos valores, exiba a quantidade de turnos que o jogador irá demorar para conseguir derrotar o monstro.\n",
        "\n",
        "**Exemplo:**\n",
        "```\n",
        "Vida de um monstro (entre 10 e 50): 26\n",
        "Valor do ataque do jogador por turno (entre 5 e 10): 5\n",
        "Resultado: O jogador irá precisar de 6 turnos para derrotar o monstro.\n",
        "```\n",
        "\n",
        "### Parte 2\n",
        "Altere o programa para ao invés de receber a vida do monstro, gerar aleatoriamente um valor entre 10 e 50."
      ]
    },
    {
      "cell_type": "code",
      "metadata": {
        "id": "wjrX1UPNXz8H"
      },
      "source": [
        "vida = int(input('Vida de um monstro (entre 10 e 50): '))\n",
        "ataque = int(input('Valor do ataque do jogador por turno (entre 5 e 10): '))\n",
        "arredondamento = vida % ataque\n",
        "print(f'Resultado: O jogador irá precisar de {vida//ataque+arredondamento} turnos para derrotar o monstro.')"
      ],
      "execution_count": null,
      "outputs": []
    },
    {
      "cell_type": "code",
      "metadata": {
        "id": "Smx4ESKqYD7v"
      },
      "source": [
        "import random\n",
        "vitalidade = random.randrange(10,50)\n",
        "dano = int(input('Valor do ataque do jogador por turno (entre 5 e 10):'))\n",
        "exatidao= vitalidade % dano\n",
        "\n",
        "print(f'Vida do Monstro {vitalidade}\\nResultado: O jogador irá precisar de {vitalidade//dano+exatidao} turnos para derrotar o monstro.')"
      ],
      "execution_count": null,
      "outputs": []
    }
  ]
}